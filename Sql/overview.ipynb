{
    "metadata": {
        "kernelspec": {
            "name": "SQL",
            "display_name": "SQL",
            "language": "sql"
        },
        "language_info": {
            "name": "sql",
            "version": ""
        }
    },
    "nbformat_minor": 2,
    "nbformat": 4,
    "cells": [
        {
            "cell_type": "markdown",
            "source": [
                "```c#\n",
                "public enum PageType\n",
                "{\n",
                "    Ignored = 0,\n",
                "    Redirect = 1,\n",
                "    Content = 2,\n",
                "    TaxoTemplate = 3\n",
                "}\n",
                "public enum Step\n",
                "{\n",
                "    ToRead = 0,\n",
                "    ToExtractContent = 1,\n",
                "    ToParseTaxobox = 2,\n",
                "    Finished,\n",
                "}\n",
                "```\n",
                ""
            ],
            "metadata": {
                "azdata_cell_guid": "36274bfb-a2af-44df-9205-918f471d8a55"
            },
            "attachments": {}
        },
        {
            "cell_type": "code",
            "source": [
                "select [Type], Step, count(*) [Count], StepError\r\n",
                "from Pages\r\n",
                "where lang = 'en'\r\n",
                "group by [Type], Step, StepError\r\n",
                "order by [Type], Step, StepError"
            ],
            "metadata": {
                "azdata_cell_guid": "6af0a5cc-3cfe-47ec-bf9c-2afd2de9ba1c",
                "language": "sql"
            },
            "outputs": [
                {
                    "output_type": "display_data",
                    "data": {
                        "text/html": "(63 rows affected)"
                    },
                    "metadata": {}
                },
                {
                    "output_type": "display_data",
                    "data": {
                        "text/html": "Total execution time: 00:00:00.086"
                    },
                    "metadata": {}
                },
                {
                    "output_type": "execute_result",
                    "metadata": {},
                    "execution_count": 5,
                    "data": {
                        "application/vnd.dataresource+json": {
                            "schema": {
                                "fields": [
                                    {
                                        "name": "Type"
                                    },
                                    {
                                        "name": "Step"
                                    },
                                    {
                                        "name": "Count"
                                    },
                                    {
                                        "name": "StepError"
                                    }
                                ]
                            },
                            "data": [
                                {
                                    "Type": "1",
                                    "Step": "1",
                                    "Count": "398690",
                                    "StepError": "NULL"
                                },
                                {
                                    "Type": "2",
                                    "Step": "-2",
                                    "Count": "123",
                                    "StepError": "Expected '=' after attribute name ..."
                                },
                                {
                                    "Type": "2",
                                    "Step": "-2",
                                    "Count": "8833",
                                    "StepError": "Expected a closing tag to start with '<'"
                                },
                                {
                                    "Type": "2",
                                    "Step": "-2",
                                    "Count": "2",
                                    "StepError": "Expected a second ']' to close the link ..."
                                },
                                {
                                    "Type": "2",
                                    "Step": "-2",
                                    "Count": "1",
                                    "StepError": "Expected element 'br' to close, but got closing tag named 'big' ..."
                                },
                                {
                                    "Type": "2",
                                    "Step": "-2",
                                    "Count": "1",
                                    "StepError": "Expected element 'br' to close, but got closing tag named 'center' ..."
                                },
                                {
                                    "Type": "2",
                                    "Step": "-2",
                                    "Count": "3",
                                    "StepError": "Expected element 'br' to close, but got closing tag named 'div' ..."
                                },
                                {
                                    "Type": "2",
                                    "Step": "-2",
                                    "Count": "6",
                                    "StepError": "Expected element 'br' to close, but got closing tag named 'ref' ..."
                                },
                                {
                                    "Type": "2",
                                    "Step": "-2",
                                    "Count": "101",
                                    "StepError": "Expected element 'br' to close, but got closing tag named 'small' ..."
                                },
                                {
                                    "Type": "2",
                                    "Step": "-2",
                                    "Count": "1",
                                    "StepError": "Expected element 'br' to close, but got closing tag named 'span' ..."
                                },
                                {
                                    "Type": "2",
                                    "Step": "-2",
                                    "Count": "8",
                                    "StepError": "Expected element 'Ref' to close, but got closing tag named 'ref' ..."
                                },
                                {
                                    "Type": "2",
                                    "Step": "-2",
                                    "Count": "20",
                                    "StepError": "Expected element 'small' to close, but got closing tag named 'Small' ..."
                                },
                                {
                                    "Type": "2",
                                    "Step": "-2",
                                    "Count": "141",
                                    "StepError": "Expected element 'www.iucnredlist.org' to close, but got closing tag named 'ref' ..."
                                },
                                {
                                    "Type": "2",
                                    "Step": "-2",
                                    "Count": "1",
                                    "StepError": "Expected name character, but found ''' ..."
                                },
                                {
                                    "Type": "2",
                                    "Step": "-2",
                                    "Count": "3",
                                    "StepError": "Expected name character, but found '*' ..."
                                },
                                {
                                    "Type": "2",
                                    "Step": "-2",
                                    "Count": "1",
                                    "StepError": "Expected name character, but found '..."
                                },
                                {
                                    "Type": "2",
                                    "Step": "-2",
                                    "Count": "39",
                                    "StepError": "Expected name character, but found '[' ..."
                                },
                                {
                                    "Type": "2",
                                    "Step": "-2",
                                    "Count": "1",
                                    "StepError": "Expected name character, but found ']' ..."
                                },
                                {
                                    "Type": "2",
                                    "Step": "-2",
                                    "Count": "8",
                                    "StepError": "Expected name character, but found '|' ..."
                                },
                                {
                                    "Type": "2",
                                    "Step": "-2",
                                    "Count": "23",
                                    "StepError": "Expected name character, but found '}' ..."
                                },
                                {
                                    "Type": "2",
                                    "Step": "-2",
                                    "Count": "26",
                                    "StepError": "Expected name character, but found '<' ..."
                                },
                                {
                                    "Type": "2",
                                    "Step": "-2",
                                    "Count": "224",
                                    "StepError": "Expected opening tag to end with either '/>' or '>' ..."
                                },
                                {
                                    "Type": "2",
                                    "Step": "-2",
                                    "Count": "13",
                                    "StepError": "Found '/' but no '>' followed to end the tag ..."
                                },
                                {
                                    "Type": "2",
                                    "Step": "-2",
                                    "Count": "1",
                                    "StepError": "Name cannot begin with the '-' character, hexadecimal value 0x2D."
                                },
                                {
                                    "Type": "2",
                                    "Step": "-2",
                                    "Count": "31",
                                    "StepError": "Name cannot begin with the '0' character, hexadecimal value 0x30."
                                },
                                {
                                    "Type": "2",
                                    "Step": "-2",
                                    "Count": "2",
                                    "StepError": "Name cannot begin with the '1' character, hexadecimal value 0x31."
                                },
                                {
                                    "Type": "2",
                                    "Step": "-2",
                                    "Count": "3",
                                    "StepError": "Name cannot begin with the '2' character, hexadecimal value 0x32."
                                },
                                {
                                    "Type": "2",
                                    "Step": "-2",
                                    "Count": "1",
                                    "StepError": "Name cannot begin with the '3' character, hexadecimal value 0x33."
                                },
                                {
                                    "Type": "2",
                                    "Step": "-2",
                                    "Count": "2",
                                    "StepError": "Name cannot begin with the '4' character, hexadecimal value 0x34."
                                },
                                {
                                    "Type": "2",
                                    "Step": "-2",
                                    "Count": "2",
                                    "StepError": "No end of attribute value found ..."
                                },
                                {
                                    "Type": "2",
                                    "Step": "-2",
                                    "Count": "46289",
                                    "StepError": "no taxobox row"
                                },
                                {
                                    "Type": "2",
                                    "Step": "-2",
                                    "Count": "6",
                                    "StepError": "Template name can't be followed by ''' ..."
                                },
                                {
                                    "Type": "2",
                                    "Step": "-2",
                                    "Count": "649",
                                    "StepError": "Template name can't be followed by '-' ..."
                                },
                                {
                                    "Type": "2",
                                    "Step": "-2",
                                    "Count": "1679",
                                    "StepError": "Template name can't be followed by '!' ..."
                                },
                                {
                                    "Type": "2",
                                    "Step": "-2",
                                    "Count": "30",
                                    "StepError": "Template name can't be followed by '#' ..."
                                },
                                {
                                    "Type": "2",
                                    "Step": "-2",
                                    "Count": "7",
                                    "StepError": "Template name can't be followed by '&' ..."
                                },
                                {
                                    "Type": "2",
                                    "Step": "-2",
                                    "Count": "3",
                                    "StepError": "Template name can't be followed by '*' ..."
                                },
                                {
                                    "Type": "2",
                                    "Step": "-2",
                                    "Count": "1",
                                    "StepError": "Template name can't be followed by ',' ..."
                                },
                                {
                                    "Type": "2",
                                    "Step": "-2",
                                    "Count": "35",
                                    "StepError": "Template name can't be followed by '.' ..."
                                },
                                {
                                    "Type": "2",
                                    "Step": "-2",
                                    "Count": "234",
                                    "StepError": "Template name can't be followed by '/' ..."
                                },
                                {
                                    "Type": "2",
                                    "Step": "-2",
                                    "Count": "2",
                                    "StepError": "Template name can't be followed by ':' ..."
                                },
                                {
                                    "Type": "2",
                                    "Step": "-2",
                                    "Count": "1",
                                    "StepError": "Template name can't be followed by '[' ..."
                                },
                                {
                                    "Type": "2",
                                    "Step": "-2",
                                    "Count": "10",
                                    "StepError": "Template name can't be followed by '{' ..."
                                },
                                {
                                    "Type": "2",
                                    "Step": "-2",
                                    "Count": "16",
                                    "StepError": "Template name can't be followed by '+' ..."
                                },
                                {
                                    "Type": "2",
                                    "Step": "-2",
                                    "Count": "5",
                                    "StepError": "Template name can't be followed by '<' ..."
                                },
                                {
                                    "Type": "2",
                                    "Step": "-2",
                                    "Count": "7",
                                    "StepError": "Template name can't be followed by '=' ..."
                                },
                                {
                                    "Type": "2",
                                    "Step": "-2",
                                    "Count": "1",
                                    "StepError": "The '\n' character, hexadecimal value 0x0A, cannot be included in a name."
                                },
                                {
                                    "Type": "2",
                                    "Step": "-2",
                                    "Count": "6",
                                    "StepError": "The ':' character, hexadecimal value 0x3A, cannot be included in a name."
                                },
                                {
                                    "Type": "2",
                                    "Step": "-2",
                                    "Count": "734",
                                    "StepError": "Unexpected end of link expression ..."
                                },
                                {
                                    "Type": "2",
                                    "Step": "-2",
                                    "Count": "13",
                                    "StepError": "Unexpected garbage in template ..."
                                },
                                {
                                    "Type": "2",
                                    "Step": "-2",
                                    "Count": "52",
                                    "StepError": "Unexpected single '{' found ..."
                                },
                                {
                                    "Type": "2",
                                    "Step": "-2",
                                    "Count": "32",
                                    "StepError": "Unexpected single '}' found ..."
                                },
                                {
                                    "Type": "2",
                                    "Step": "-2",
                                    "Count": "3",
                                    "StepError": "Unexpected taxobox name: Taxobox_authority"
                                },
                                {
                                    "Type": "2",
                                    "Step": "-2",
                                    "Count": "8",
                                    "StepError": "Unexpected taxobox name: Taxobox_colour"
                                },
                                {
                                    "Type": "2",
                                    "Step": "-2",
                                    "Count": "2",
                                    "StepError": "Unexpected taxobox name: Taxobox_colour_scheme"
                                },
                                {
                                    "Type": "2",
                                    "Step": "-2",
                                    "Count": "1",
                                    "StepError": "Unexpected taxobox name: Taxobox_name"
                                },
                                {
                                    "Type": "2",
                                    "Step": "3",
                                    "Count": "396836",
                                    "StepError": "NULL"
                                },
                                {
                                    "Type": "3",
                                    "Step": "-2",
                                    "Count": "4",
                                    "StepError": "Expected link to have one or two parts ..."
                                },
                                {
                                    "Type": "3",
                                    "Step": "-2",
                                    "Count": "3",
                                    "StepError": "Redirect starts with unexpected lead"
                                },
                                {
                                    "Type": "3",
                                    "Step": "-2",
                                    "Count": "53",
                                    "StepError": "Taxo template does not contain expected taxotemplate prefix"
                                },
                                {
                                    "Type": "3",
                                    "Step": "-2",
                                    "Count": "79",
                                    "StepError": "Value contained '|', likely a parsing error"
                                },
                                {
                                    "Type": "3",
                                    "Step": "-2",
                                    "Count": "8",
                                    "StepError": "Value is missing for key ..."
                                },
                                {
                                    "Type": "3",
                                    "Step": "3",
                                    "Count": "108210",
                                    "StepError": "NULL"
                                }
                            ]
                        },
                        "text/html": [
                            "<table>",
                            "<tr><th>Type</th><th>Step</th><th>Count</th><th>StepError</th></tr>",
                            "<tr><td>1</td><td>1</td><td>398690</td><td>NULL</td></tr>",
                            "<tr><td>2</td><td>-2</td><td>123</td><td>Expected &#39;=&#39; after attribute name ...</td></tr>",
                            "<tr><td>2</td><td>-2</td><td>8833</td><td>Expected a closing tag to start with &#39;&lt;&#39;</td></tr>",
                            "<tr><td>2</td><td>-2</td><td>2</td><td>Expected a second &#39;]&#39; to close the link ...</td></tr>",
                            "<tr><td>2</td><td>-2</td><td>1</td><td>Expected element &#39;br&#39; to close, but got closing tag named &#39;big&#39; ...</td></tr>",
                            "<tr><td>2</td><td>-2</td><td>1</td><td>Expected element &#39;br&#39; to close, but got closing tag named &#39;center&#39; ...</td></tr>",
                            "<tr><td>2</td><td>-2</td><td>3</td><td>Expected element &#39;br&#39; to close, but got closing tag named &#39;div&#39; ...</td></tr>",
                            "<tr><td>2</td><td>-2</td><td>6</td><td>Expected element &#39;br&#39; to close, but got closing tag named &#39;ref&#39; ...</td></tr>",
                            "<tr><td>2</td><td>-2</td><td>101</td><td>Expected element &#39;br&#39; to close, but got closing tag named &#39;small&#39; ...</td></tr>",
                            "<tr><td>2</td><td>-2</td><td>1</td><td>Expected element &#39;br&#39; to close, but got closing tag named &#39;span&#39; ...</td></tr>",
                            "<tr><td>2</td><td>-2</td><td>8</td><td>Expected element &#39;Ref&#39; to close, but got closing tag named &#39;ref&#39; ...</td></tr>",
                            "<tr><td>2</td><td>-2</td><td>20</td><td>Expected element &#39;small&#39; to close, but got closing tag named &#39;Small&#39; ...</td></tr>",
                            "<tr><td>2</td><td>-2</td><td>141</td><td>Expected element &#39;www.iucnredlist.org&#39; to close, but got closing tag named &#39;ref&#39; ...</td></tr>",
                            "<tr><td>2</td><td>-2</td><td>1</td><td>Expected name character, but found &#39;&#39;&#39; ...</td></tr>",
                            "<tr><td>2</td><td>-2</td><td>3</td><td>Expected name character, but found &#39;*&#39; ...</td></tr>",
                            "<tr><td>2</td><td>-2</td><td>1</td><td>Expected name character, but found &#39;...</td></tr>",
                            "<tr><td>2</td><td>-2</td><td>39</td><td>Expected name character, but found &#39;[&#39; ...</td></tr>",
                            "<tr><td>2</td><td>-2</td><td>1</td><td>Expected name character, but found &#39;]&#39; ...</td></tr>",
                            "<tr><td>2</td><td>-2</td><td>8</td><td>Expected name character, but found &#39;|&#39; ...</td></tr>",
                            "<tr><td>2</td><td>-2</td><td>23</td><td>Expected name character, but found &#39;}&#39; ...</td></tr>",
                            "<tr><td>2</td><td>-2</td><td>26</td><td>Expected name character, but found &#39;&lt;&#39; ...</td></tr>",
                            "<tr><td>2</td><td>-2</td><td>224</td><td>Expected opening tag to end with either &#39;/&gt;&#39; or &#39;&gt;&#39; ...</td></tr>",
                            "<tr><td>2</td><td>-2</td><td>13</td><td>Found &#39;/&#39; but no &#39;&gt;&#39; followed to end the tag ...</td></tr>",
                            "<tr><td>2</td><td>-2</td><td>1</td><td>Name cannot begin with the &#39;-&#39; character, hexadecimal value 0x2D.</td></tr>",
                            "<tr><td>2</td><td>-2</td><td>31</td><td>Name cannot begin with the &#39;0&#39; character, hexadecimal value 0x30.</td></tr>",
                            "<tr><td>2</td><td>-2</td><td>2</td><td>Name cannot begin with the &#39;1&#39; character, hexadecimal value 0x31.</td></tr>",
                            "<tr><td>2</td><td>-2</td><td>3</td><td>Name cannot begin with the &#39;2&#39; character, hexadecimal value 0x32.</td></tr>",
                            "<tr><td>2</td><td>-2</td><td>1</td><td>Name cannot begin with the &#39;3&#39; character, hexadecimal value 0x33.</td></tr>",
                            "<tr><td>2</td><td>-2</td><td>2</td><td>Name cannot begin with the &#39;4&#39; character, hexadecimal value 0x34.</td></tr>",
                            "<tr><td>2</td><td>-2</td><td>2</td><td>No end of attribute value found ...</td></tr>",
                            "<tr><td>2</td><td>-2</td><td>46289</td><td>no taxobox row</td></tr>",
                            "<tr><td>2</td><td>-2</td><td>6</td><td>Template name can&#39;t be followed by &#39;&#39;&#39; ...</td></tr>",
                            "<tr><td>2</td><td>-2</td><td>649</td><td>Template name can&#39;t be followed by &#39;-&#39; ...</td></tr>",
                            "<tr><td>2</td><td>-2</td><td>1679</td><td>Template name can&#39;t be followed by &#39;!&#39; ...</td></tr>",
                            "<tr><td>2</td><td>-2</td><td>30</td><td>Template name can&#39;t be followed by &#39;#&#39; ...</td></tr>",
                            "<tr><td>2</td><td>-2</td><td>7</td><td>Template name can&#39;t be followed by &#39;&amp;&#39; ...</td></tr>",
                            "<tr><td>2</td><td>-2</td><td>3</td><td>Template name can&#39;t be followed by &#39;*&#39; ...</td></tr>",
                            "<tr><td>2</td><td>-2</td><td>1</td><td>Template name can&#39;t be followed by &#39;,&#39; ...</td></tr>",
                            "<tr><td>2</td><td>-2</td><td>35</td><td>Template name can&#39;t be followed by &#39;.&#39; ...</td></tr>",
                            "<tr><td>2</td><td>-2</td><td>234</td><td>Template name can&#39;t be followed by &#39;/&#39; ...</td></tr>",
                            "<tr><td>2</td><td>-2</td><td>2</td><td>Template name can&#39;t be followed by &#39;:&#39; ...</td></tr>",
                            "<tr><td>2</td><td>-2</td><td>1</td><td>Template name can&#39;t be followed by &#39;[&#39; ...</td></tr>",
                            "<tr><td>2</td><td>-2</td><td>10</td><td>Template name can&#39;t be followed by &#39;{&#39; ...</td></tr>",
                            "<tr><td>2</td><td>-2</td><td>16</td><td>Template name can&#39;t be followed by &#39;+&#39; ...</td></tr>",
                            "<tr><td>2</td><td>-2</td><td>5</td><td>Template name can&#39;t be followed by &#39;&lt;&#39; ...</td></tr>",
                            "<tr><td>2</td><td>-2</td><td>7</td><td>Template name can&#39;t be followed by &#39;=&#39; ...</td></tr>",
                            "<tr><td>2</td><td>-2</td><td>1</td><td>The &#39;\n&#39; character, hexadecimal value 0x0A, cannot be included in a name.</td></tr>",
                            "<tr><td>2</td><td>-2</td><td>6</td><td>The &#39;:&#39; character, hexadecimal value 0x3A, cannot be included in a name.</td></tr>",
                            "<tr><td>2</td><td>-2</td><td>734</td><td>Unexpected end of link expression ...</td></tr>",
                            "<tr><td>2</td><td>-2</td><td>13</td><td>Unexpected garbage in template ...</td></tr>",
                            "<tr><td>2</td><td>-2</td><td>52</td><td>Unexpected single &#39;{&#39; found ...</td></tr>",
                            "<tr><td>2</td><td>-2</td><td>32</td><td>Unexpected single &#39;}&#39; found ...</td></tr>",
                            "<tr><td>2</td><td>-2</td><td>3</td><td>Unexpected taxobox name: Taxobox_authority</td></tr>",
                            "<tr><td>2</td><td>-2</td><td>8</td><td>Unexpected taxobox name: Taxobox_colour</td></tr>",
                            "<tr><td>2</td><td>-2</td><td>2</td><td>Unexpected taxobox name: Taxobox_colour_scheme</td></tr>",
                            "<tr><td>2</td><td>-2</td><td>1</td><td>Unexpected taxobox name: Taxobox_name</td></tr>",
                            "<tr><td>2</td><td>3</td><td>396836</td><td>NULL</td></tr>",
                            "<tr><td>3</td><td>-2</td><td>4</td><td>Expected link to have one or two parts ...</td></tr>",
                            "<tr><td>3</td><td>-2</td><td>3</td><td>Redirect starts with unexpected lead</td></tr>",
                            "<tr><td>3</td><td>-2</td><td>53</td><td>Taxo template does not contain expected taxotemplate prefix</td></tr>",
                            "<tr><td>3</td><td>-2</td><td>79</td><td>Value contained &#39;|&#39;, likely a parsing error</td></tr>",
                            "<tr><td>3</td><td>-2</td><td>8</td><td>Value is missing for key ...</td></tr>",
                            "<tr><td>3</td><td>3</td><td>108210</td><td>NULL</td></tr>",
                            "</table>"
                        ]
                    }
                }
            ],
            "execution_count": 5
        },
        {
            "cell_type": "code",
            "source": [
                "-- template names\r\n",
                "select p.[Type], p.[Step], r.TemplateName, count(*) [Count]\r\n",
                "from ParsingResults r\r\n",
                "join Pages p on r.Lang = p.Lang and r.Title = p.Title\r\n",
                "where r.Lang = 'en'\r\n",
                "group by p.[Type], p.[Step], r.TemplateName\r\n",
                "order by p.[Type], p.[Step], r.TemplateName"
            ],
            "metadata": {
                "azdata_cell_guid": "729df943-1e94-4172-8757-dea25aba9774",
                "language": "sql"
            },
            "outputs": [
                {
                    "output_type": "display_data",
                    "data": {
                        "text/html": "(8 rows affected)"
                    },
                    "metadata": {}
                },
                {
                    "output_type": "display_data",
                    "data": {
                        "text/html": "Total execution time: 00:00:00.239"
                    },
                    "metadata": {}
                },
                {
                    "output_type": "execute_result",
                    "metadata": {},
                    "execution_count": 7,
                    "data": {
                        "application/vnd.dataresource+json": {
                            "schema": {
                                "fields": [
                                    {
                                        "name": "Type"
                                    },
                                    {
                                        "name": "Step"
                                    },
                                    {
                                        "name": "TemplateName"
                                    },
                                    {
                                        "name": "Count"
                                    }
                                ]
                            },
                            "data": [
                                {
                                    "Type": "2",
                                    "Step": "-2",
                                    "TemplateName": "NULL",
                                    "Count": "59447"
                                },
                                {
                                    "Type": "2",
                                    "Step": "3",
                                    "TemplateName": "Automatic_taxobox",
                                    "Count": "64566"
                                },
                                {
                                    "Type": "2",
                                    "Step": "3",
                                    "TemplateName": "Speciesbox",
                                    "Count": "248909"
                                },
                                {
                                    "Type": "2",
                                    "Step": "3",
                                    "TemplateName": "Taxobox",
                                    "Count": "83361"
                                },
                                {
                                    "Type": "3",
                                    "Step": "-2",
                                    "TemplateName": "NULL",
                                    "Count": "64"
                                },
                                {
                                    "Type": "3",
                                    "Step": "-2",
                                    "TemplateName": "Taxotemplate",
                                    "Count": "83"
                                },
                                {
                                    "Type": "3",
                                    "Step": "3",
                                    "TemplateName": "NULL",
                                    "Count": "401"
                                },
                                {
                                    "Type": "3",
                                    "Step": "3",
                                    "TemplateName": "Taxotemplate",
                                    "Count": "107809"
                                }
                            ]
                        },
                        "text/html": [
                            "<table>",
                            "<tr><th>Type</th><th>Step</th><th>TemplateName</th><th>Count</th></tr>",
                            "<tr><td>2</td><td>-2</td><td>NULL</td><td>59447</td></tr>",
                            "<tr><td>2</td><td>3</td><td>Automatic_taxobox</td><td>64566</td></tr>",
                            "<tr><td>2</td><td>3</td><td>Speciesbox</td><td>248909</td></tr>",
                            "<tr><td>2</td><td>3</td><td>Taxobox</td><td>83361</td></tr>",
                            "<tr><td>3</td><td>-2</td><td>NULL</td><td>64</td></tr>",
                            "<tr><td>3</td><td>-2</td><td>Taxotemplate</td><td>83</td></tr>",
                            "<tr><td>3</td><td>3</td><td>NULL</td><td>401</td></tr>",
                            "<tr><td>3</td><td>3</td><td>Taxotemplate</td><td>107809</td></tr>",
                            "</table>"
                        ]
                    }
                }
            ],
            "execution_count": 7
        },
        {
            "cell_type": "code",
            "source": [
                "-- image situation: 1: no entry, 2: unsupported, 3: simple, 4: multiple\r\n",
                "select count(*) [Total], ImageSituation\r\n",
                "from ParsingResults\r\n",
                "where [TemplateName] = 'Speciesbox'\r\n",
                "group by ImageSituation\r\n",
                "order by ImageSituation\r\n",
                ""
            ],
            "metadata": {
                "azdata_cell_guid": "b2f23cb8-7d78-4fb7-8ae1-735f7a350b36",
                "language": "sql"
            },
            "outputs": [
                {
                    "output_type": "display_data",
                    "data": {
                        "text/html": "(4 rows affected)"
                    },
                    "metadata": {}
                },
                {
                    "output_type": "display_data",
                    "data": {
                        "text/html": "Total execution time: 00:00:00.075"
                    },
                    "metadata": {}
                },
                {
                    "output_type": "execute_result",
                    "metadata": {},
                    "execution_count": 10,
                    "data": {
                        "application/vnd.dataresource+json": {
                            "schema": {
                                "fields": [
                                    {
                                        "name": "Total"
                                    },
                                    {
                                        "name": "ImageSituation"
                                    }
                                ]
                            },
                            "data": [
                                {
                                    "Total": "613",
                                    "ImageSituation": "0"
                                },
                                {
                                    "Total": "54352",
                                    "ImageSituation": "1"
                                },
                                {
                                    "Total": "193942",
                                    "ImageSituation": "3"
                                },
                                {
                                    "Total": "2",
                                    "ImageSituation": "4"
                                }
                            ]
                        },
                        "text/html": [
                            "<table>",
                            "<tr><th>Total</th><th>ImageSituation</th></tr>",
                            "<tr><td>613</td><td>0</td></tr>",
                            "<tr><td>54352</td><td>1</td></tr>",
                            "<tr><td>193942</td><td>3</td></tr>",
                            "<tr><td>2</td><td>4</td></tr>",
                            "</table>"
                        ]
                    }
                }
            ],
            "execution_count": 10
        }
    ]
}