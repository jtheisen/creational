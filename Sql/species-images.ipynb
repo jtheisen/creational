{
    "metadata": {
        "kernelspec": {
            "name": "SQL",
            "display_name": "SQL",
            "language": "sql"
        },
        "language_info": {
            "name": "sql",
            "version": ""
        }
    },
    "nbformat_minor": 2,
    "nbformat": 4,
    "cells": [
        {
            "cell_type": "code",
            "source": [
                "-- how many have how many images\r\n",
                "with cte as (\r\n",
                "    select r.*, (select count(*) from TaxoboxImageEntries e where r.Lang = e.Lang and r.Title = e.Title) c\r\n",
                "    from ParsingResults r\r\n",
                "    where r.[Type] = 2 and r.TemplateName = 'speciesbox'\r\n",
                ")\r\n",
                "select count(*) [count], c images\r\n",
                "from cte\r\n",
                "group by c\r\n",
                "order by c"
            ],
            "metadata": {
                "azdata_cell_guid": "90d0db30-8fa9-48d4-8adc-723ddc58e3bb",
                "language": "sql"
            },
            "outputs": [
                {
                    "output_type": "display_data",
                    "data": {
                        "text/html": "(2 rows affected)"
                    },
                    "metadata": {}
                },
                {
                    "output_type": "display_data",
                    "data": {
                        "text/html": "Total execution time: 00:00:00.320"
                    },
                    "metadata": {}
                },
                {
                    "output_type": "execute_result",
                    "metadata": {},
                    "execution_count": 1,
                    "data": {
                        "application/vnd.dataresource+json": {
                            "schema": {
                                "fields": [
                                    {
                                        "name": "count"
                                    },
                                    {
                                        "name": "images"
                                    }
                                ]
                            },
                            "data": [
                                {
                                    "count": "54701",
                                    "images": "0"
                                },
                                {
                                    "count": "194185",
                                    "images": "1"
                                }
                            ]
                        },
                        "text/html": [
                            "<table>",
                            "<tr><th>count</th><th>images</th></tr>",
                            "<tr><td>54701</td><td>0</td></tr>",
                            "<tr><td>194185</td><td>1</td></tr>",
                            "</table>"
                        ]
                    }
                }
            ],
            "execution_count": 1
        },
        {
            "cell_type": "code",
            "source": [
                "-- some with no images\r\n",
                "with cte as (\r\n",
                "    select r.*, (select count(*) from TaxoboxImageEntries e where r.Lang = e.Lang and r.Title = e.Title) c\r\n",
                "    from ParsingResults r\r\n",
                "    where r.[Type] = 2 and r.TemplateName = 'speciesbox'\r\n",
                ")\r\n",
                "select top 10 Title\r\n",
                "from cte\r\n",
                "where c = 0"
            ],
            "metadata": {
                "azdata_cell_guid": "ab80b50f-dc8e-4589-8164-4833128976c3",
                "language": "sql"
            },
            "outputs": [
                {
                    "output_type": "display_data",
                    "data": {
                        "text/html": "(10 rows affected)"
                    },
                    "metadata": {}
                },
                {
                    "output_type": "display_data",
                    "data": {
                        "text/html": "Total execution time: 00:00:00.165"
                    },
                    "metadata": {}
                },
                {
                    "output_type": "execute_result",
                    "metadata": {},
                    "execution_count": 2,
                    "data": {
                        "application/vnd.dataresource+json": {
                            "schema": {
                                "fields": [
                                    {
                                        "name": "Title"
                                    }
                                ]
                            },
                            "data": [
                                {
                                    "Title": "\"Bufo\" scorteccii"
                                },
                                {
                                    "Title": "\"Centrolene\" acanthidiocephalum"
                                },
                                {
                                    "Title": "\"Centrolene\" azulae"
                                },
                                {
                                    "Title": "\"Centrolene\" medemi"
                                },
                                {
                                    "Title": "\"Centrolene\" petrophilum"
                                },
                                {
                                    "Title": "\"Cochranella\" duidaeana"
                                },
                                {
                                    "Title": "\"Cochranella\" euhystrix"
                                },
                                {
                                    "Title": "\"Cochranella\" geijskesi"
                                },
                                {
                                    "Title": "\"Cochranella\" ramirezi"
                                },
                                {
                                    "Title": "\"Cochranella\" riveroi"
                                }
                            ]
                        },
                        "text/html": [
                            "<table>",
                            "<tr><th>Title</th></tr>",
                            "<tr><td>&quot;Bufo&quot; scorteccii</td></tr>",
                            "<tr><td>&quot;Centrolene&quot; acanthidiocephalum</td></tr>",
                            "<tr><td>&quot;Centrolene&quot; azulae</td></tr>",
                            "<tr><td>&quot;Centrolene&quot; medemi</td></tr>",
                            "<tr><td>&quot;Centrolene&quot; petrophilum</td></tr>",
                            "<tr><td>&quot;Cochranella&quot; duidaeana</td></tr>",
                            "<tr><td>&quot;Cochranella&quot; euhystrix</td></tr>",
                            "<tr><td>&quot;Cochranella&quot; geijskesi</td></tr>",
                            "<tr><td>&quot;Cochranella&quot; ramirezi</td></tr>",
                            "<tr><td>&quot;Cochranella&quot; riveroi</td></tr>",
                            "</table>"
                        ]
                    }
                }
            ],
            "execution_count": 2
        }
    ]
}